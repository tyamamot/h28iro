{
 "cells": [
  {
   "cell_type": "markdown",
   "metadata": {},
   "source": [
    "# 第5回 ランキング学習（Ranking SVM）"
   ]
  },
  {
   "cell_type": "markdown",
   "metadata": {},
   "source": [
    "この演習課題ページでは，Ranking SVMの実装であるSVM-rankの使い方を説明します．この演習ページの目的は，SVM-rankを用いてモデルの学習，テストデータに対するランク付けが可能になることです．\n",
    "\n",
    "この演習ページでは以下のツールを使用します．\n",
    "- SVM-rank (by  Prof. Thorsten Joachims)\n",
    "  - https://www.cs.cornell.edu/people/tj/svm_light/svm_rank.html"
   ]
  },
  {
   "cell_type": "markdown",
   "metadata": {},
   "source": [
    "## 1. SVM-rankのインストール\n",
    "\n",
    "SVM-rankのページに従って，SVM-rankをインストールします．\n",
    "\n",
    "まずは，svm_rank.tar.gzをダウンロードします．\n",
    "  - http://download.joachims.org/svm_rank/current/svm_rank.tar.gz  "
   ]
  },
  {
   "cell_type": "markdown",
   "metadata": {},
   "source": [
    "ダウンロードしたらファイルを解凍し，コンパイルしてください．\n",
    "以下はその一例です．\n",
    "\n",
    "```\n",
    "$ mkdir svm_rank # 解凍するファイルを入れるフォルダを作成\n",
    "$ mv svm_rank.tar.gz svm_rank #ダウンロードしたアーカイブを今作成したフォルダに移動 \n",
    "$ cd svm_rank\n",
    "$ tar xzvf svm_rank.tar.gz  #ファイルを解凍\n",
    "$ make\n",
    "```\n",
    "\n",
    "正しくコンパイルができていれば， svm_rank_learn と svm_rank_classify　という2つのファイルが生成されているはずです．"
   ]
  },
  {
   "cell_type": "markdown",
   "metadata": {},
   "source": [
    "作成したsvm_rank_learn と svm_rank_classifyを適当な場所にコピーします．この演習ページでは， h29iro/bin/にコピーした前提でコードを進めます．"
   ]
  },
  {
   "cell_type": "markdown",
   "metadata": {},
   "source": [
    "# 2.サンプルファイルの実行"
   ]
  },
  {
   "cell_type": "markdown",
   "metadata": {},
   "source": [
    "h29iro/data/svmrank_sample/ にサンプルファイルを置いています．これは，SVM-rankのページで配布されている以下のファイルをコピーしたものです．\n",
    " - http://download.joachims.org/svm_light/examples/example3.tar.gz\n",
    "\n",
    "このサンプルファイルには，training.dat（訓練データ）と test.dat（テストデータ）が含まれています．\n"
   ]
  },
  {
   "cell_type": "markdown",
   "metadata": {},
   "source": [
    "## 2.1 訓練データ"
   ]
  },
  {
   "cell_type": "markdown",
   "metadata": {},
   "source": [
    "訓練データ(../data/svmrank_sample/train.dat)の中身はこのようになっています"
   ]
  },
  {
   "cell_type": "markdown",
   "metadata": {},
   "source": [
    "```\n",
    "3 qid:1 1:1 2:1 3:0 4:0.2 5:0 # 1A\n",
    "2 qid:1 1:0 2:0 3:1 4:0.1 5:1 # 1B \n",
    "1 qid:1 1:0 2:1 3:0 4:0.4 5:0 # 1C\n",
    "1 qid:1 1:0 2:0 3:1 4:0.3 5:0 # 1D  \n",
    "1 qid:2 1:0 2:0 3:1 4:0.2 5:0 # 2A  \n",
    "2 qid:2 1:1 2:0 3:1 4:0.4 5:0 # 2B \n",
    "1 qid:2 1:0 2:0 3:1 4:0.1 5:0 # 2C \n",
    "1 qid:2 1:0 2:0 3:1 4:0.2 5:0 # 2D  \n",
    "2 qid:3 1:0 2:0 3:1 4:0.1 5:1 # 3A \n",
    "3 qid:3 1:1 2:1 3:0 4:0.3 5:0 # 3B \n",
    "4 qid:3 1:1 2:0 3:0 4:0.4 5:1 # 3C \n",
    "1 qid:3 1:0 2:1 3:1 4:0.5 5:0 # 3D\n",
    "```"
   ]
  },
  {
   "cell_type": "markdown",
   "metadata": {},
   "source": [
    "詳しいフォーマットの中身は，SVM-rankのページを参照してください．\n",
    "各行1列目の数値が，その文書のクエリqidに対する重要性を表しており，SVM-rankはこの値を元にpairwise preference集合を生成し，学習データとします．\n",
    "たとえば，上記訓練データは，下記のpairwise preference集合を訓練データとして与えていることになります．\n",
    "\n",
    "```\n",
    "1A>1B, 1A>1C, 1A>1D, 1B>1C, 1B>1D, 2B>2A, 2B>2C, 2B>2D, 3C>3A, 3C>3B, 3C>3D, 3B>3A, 3B>3D, 3A>3D \n",
    "(SVM-rankのページより引用）\n",
    "```\n",
    "\n",
    "また， 3列目以降の x:y という文字列は特徴量を表しており，x次元目の値がyであることを示しています．\n",
    "\n",
    "たとえば，1行目のデータは，クエリ$q_1$に対して， $f_1 = 1.0, f_2=1.0, f_3=0.0, f_4=0.2, f_5=0.0$という特徴ベクトルを持った文書1Aの重要性が3であることを示しています．"
   ]
  },
  {
   "cell_type": "markdown",
   "metadata": {},
   "source": [
    "# 2.2 訓練データの学習\n",
    "訓練データを学習し，モデルを生成するには， svm_rank_learn を用います．"
   ]
  },
  {
   "cell_type": "code",
   "execution_count": 1,
   "metadata": {
    "scrolled": false
   },
   "outputs": [
    {
     "name": "stdout",
     "output_type": "stream",
     "text": [
      "Reading training examples...done\r\n",
      "Training set properties: 5 features, 3 rankings, 12 examples\r\n",
      "NOTE: Adjusted stopping criterion relative to maximum loss: eps=0.004667\r\n",
      "Iter 1: ...*(NumConst=1, SV=1, CEps=4.6667, QPEps=0.0000)\r\n",
      "Iter 2: ...*(NumConst=2, SV=1, CEps=4.2166, QPEps=0.0000)\r\n",
      "Iter 3: ...(NumConst=2, SV=1, CEps=0.0000, QPEps=0.0000)\r\n",
      "Final epsilon on KKT-Conditions: 0.00000\r\n",
      "Upper bound on duality gap: -0.00000\r\n",
      "Dual objective value: dval=0.13325\r\n",
      "Primal objective value: pval=0.13325\r\n",
      "Total number of constraints in final working set: 2 (of 2)\r\n",
      "Number of iterations: 3\r\n",
      "Number of calls to 'find_most_violated_constraint': 9\r\n",
      "Number of SV: 1 \r\n",
      "Norm of weight vector: |w|=0.11619\r\n",
      "Value of slack variable (on working set): xi=4.21663\r\n",
      "Value of slack variable (global): xi=4.21663\r\n",
      "Norm of longest difference vector: ||Psi(x,y)-Psi(x,ybar)||=3.87313\r\n",
      "Runtime in cpu-seconds: 0.00\r\n",
      "Compacting linear model...done\r\n",
      "Writing learned model...done\r\n"
     ]
    }
   ],
   "source": [
    "! ../bin/svm_rank_learn -c 0.03 ../data/svmrank_sample/train.dat ../data/svmrank_sample/model"
   ]
  },
  {
   "cell_type": "markdown",
   "metadata": {},
   "source": [
    " 正しく学習できていれば， ../data/svmrank_sample/model というファイルが生成されているはずです．"
   ]
  },
  {
   "cell_type": "code",
   "execution_count": 2,
   "metadata": {
    "scrolled": false
   },
   "outputs": [
    {
     "name": "stdout",
     "output_type": "stream",
     "text": [
      "SVM-light Version V6.20\r\n",
      "0 # kernel type\r\n",
      "3 # kernel parameter -d \r\n",
      "1 # kernel parameter -g \r\n",
      "1 # kernel parameter -s \r\n",
      "1 # kernel parameter -r \r\n",
      "empty# kernel parameter -u \r\n",
      "6 # highest feature index \r\n",
      "2 # number of training documents \r\n",
      "2 # number of support vectors plus 1 \r\n",
      "0 # threshold b, each following line is a SV (starting with alpha*y)\r\n",
      "1 1:0.099999994 2:-0.010000001 3:-0.049999997 4:-0.0010000003 5:0.029999999 #\r\n"
     ]
    }
   ],
   "source": [
    "!cat  ../data/svmrank_sample/model"
   ]
  },
  {
   "cell_type": "markdown",
   "metadata": {},
   "source": [
    "## 2.3 テストデータへの適用"
   ]
  },
  {
   "cell_type": "markdown",
   "metadata": {},
   "source": [
    "先ほど学習したモデルを使って，実際にテストデータに対してランキングを行うには，svm_rank_classifyを利用します．"
   ]
  },
  {
   "cell_type": "code",
   "execution_count": 3,
   "metadata": {
    "scrolled": true
   },
   "outputs": [
    {
     "name": "stdout",
     "output_type": "stream",
     "text": [
      "4 qid:4 1:1 2:0 3:0 4:0.2 5:1\r",
      "\r\n",
      "3 qid:4 1:1 2:1 3:0 4:0.3 5:0\r",
      "\r\n",
      "2 qid:4 1:0 2:0 3:0 4:0.2 5:1\r",
      "\r\n",
      "1 qid:4 1:0 2:0 3:1 4:0.2 5:0\r",
      "\r\n"
     ]
    }
   ],
   "source": [
    "!cat ../data/svmrank_sample/test.dat"
   ]
  },
  {
   "cell_type": "markdown",
   "metadata": {},
   "source": [
    "なお，テストデータ中の1列目の値は，正解順位(正確には重要度）です． テストデータに対する精度（テストデータ中のペアの順序関係をどれだけ正しく再現できたか）を計算する際に利用されます．"
   ]
  },
  {
   "cell_type": "code",
   "execution_count": 4,
   "metadata": {},
   "outputs": [
    {
     "name": "stdout",
     "output_type": "stream",
     "text": [
      "Reading model...done.\r\n",
      "Reading test examples...done.\r\n",
      "Classifying test examples...done\r\n",
      "Runtime (without IO) in cpu-seconds: 0.00\r\n",
      "Average loss on test set: 0.0000\r\n",
      "Zero/one-error on test set: 0.00% (1 correct, 0 incorrect, 1 total)\r\n",
      "NOTE: The loss reported above is the fraction of swapped pairs averaged over\r\n",
      "      all rankings. The zero/one-error is fraction of perfectly correct\r\n",
      "      rankings!\r\n",
      "Total Num Swappedpairs  :      0\r\n",
      "Avg Swappedpairs Percent:   0.00\r\n"
     ]
    }
   ],
   "source": [
    "! ../bin/svm_rank_classify ../data/svmrank_sample/test.dat ../data/svmrank_sample/model ../data/svmrank_sample/prediction"
   ]
  },
  {
   "cell_type": "markdown",
   "metadata": {},
   "source": [
    "テストデータに対する実際のランキングはpredictionファイルを確認します．"
   ]
  },
  {
   "cell_type": "code",
   "execution_count": 5,
   "metadata": {},
   "outputs": [
    {
     "name": "stdout",
     "output_type": "stream",
     "text": [
      "0.12979999\r\n",
      "0.08969999\r\n",
      "0.02980000\r\n",
      "-0.05020000\r\n"
     ]
    }
   ],
   "source": [
    "!cat ../data/svmrank_sample/prediction"
   ]
  },
  {
   "cell_type": "markdown",
   "metadata": {},
   "source": [
    "実際にテストデータに対してランキングを作成する場合は，この値の降順にランク付けします． （この例だと，[$d_1, d_2, d_3, d_4$]がSVM-rankが出力したランキング）"
   ]
  },
  {
   "cell_type": "markdown",
   "metadata": {},
   "source": [
    "# 演習課題その4（ランキング学習・検索結果多様化）\n",
    "\n",
    "\n",
    "## 必須課題（１）Ranking SVM\n",
    "\n",
    "サンプルファイルとは別のテストデータを用意し，サンプルファイルの訓練データで学習したモデルをそのテストデータに適用してみよ．\n",
    "また，訓練データを観察し，どのような特徴量をもった文書が上位にランク付けされそうか自分で推測し，テストデータに対するランキング結果がその自分の推測と近いかどうか考察せよ．\n",
    "\n",
    "\n",
    "## 任意課題（１）実際のデータに対するRanking SVM\n",
    "演習課題1で扱った文書コレクションおよびクエリに対して，適宜特徴量を自分で考え，訓練データ・学習データを用意せよ．\n",
    "そして，SVM-rankを適用し，テストデータに対するランキング結果を分析することでどのような特徴量が重要と判定されたか考察せよ．\n",
    "\n",
    "## 任意課題（２） 検索結果多様化\n",
    "\n",
    "講義で扱ったMMR，もしくはIA-SELECTを実装せよ．そして，演習課題1で扱ったコーパス・クエリに対してアルゴリズムを適用することで，多様化しない場合のランキングと多様化したランキングがどのように異なっているか考察せよ．\n",
    "\n",
    "# 課題の提出方法\n",
    "\n",
    "いずれかの方法で，ipython notebookのページ（.ipynbファイル）とそのhtml版を提出すること．\n",
    "\n",
    "1. 添付ファイルで山本に送信．\n",
    "   - 送付先 tyamamot at dl.kuis.kyoto-u.ac.jp\n",
    "2. 各自のgithubやgithub gistにアップロードし，そのURLを山本に送信．この場合はhtml版を用意する必要はない．\n",
    "3. 上記以外で，山本が実際に.ipynbファイルを確認できる方法．\n",
    "\n",
    "\n",
    "# 締切\n",
    "\n",
    "- 2017年1月31日（水）23:59\n",
    "- 締切に関する個別の相談は``受け付けます``．"
   ]
  }
 ],
 "metadata": {
  "kernelspec": {
   "display_name": "Python 3",
   "language": "python",
   "name": "python3"
  },
  "language_info": {
   "codemirror_mode": {
    "name": "ipython",
    "version": 3
   },
   "file_extension": ".py",
   "mimetype": "text/x-python",
   "name": "python",
   "nbconvert_exporter": "python",
   "pygments_lexer": "ipython3",
   "version": "3.5.4"
  }
 },
 "nbformat": 4,
 "nbformat_minor": 1
}
